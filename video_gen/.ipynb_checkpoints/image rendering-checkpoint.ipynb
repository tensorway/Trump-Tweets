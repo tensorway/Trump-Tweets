{
 "cells": [
  {
   "cell_type": "code",
   "execution_count": 52,
   "metadata": {},
   "outputs": [],
   "source": [
    "import glob\n",
    "import os\n",
    "import cv2\n",
    "import random\n",
    "import numpy as np\n",
    "\n",
    "random.seed(0)\n",
    "hands_dir = 'hands_gen/'\n",
    "face_dir = 'face_gen/'\n",
    "cfps = 30\n",
    "t_fc_hands = 300\n",
    "t_fc_face = 50\n",
    "fc_hands = 1000*cfps//t_fc_hands\n",
    "fc_face = 1000*cfps//t_fc_face"
   ]
  },
  {
   "cell_type": "code",
   "execution_count": null,
   "metadata": {},
   "outputs": [],
   "source": []
  },
  {
   "cell_type": "code",
   "execution_count": 16,
   "metadata": {},
   "outputs": [],
   "source": [
    "hands = sorted(glob.glob(hands_dir + '*.png'))\n",
    "faces = sorted(glob.glob(face_dir + '*.png'))\n",
    "\n",
    "timg = cv2.imread(hands[0])\n",
    "face_mask = np.zeros((timg.shape[0], timg.shape[1]), np.uint8)\n",
    "cen = (face_mask.shape[1]//2, face_mask.shape[0]//2 - 50)\n",
    "face_mask = cv2.circle(face_mask, cen, cen[0]//13, 255, -1)\n",
    "hands_mask = cv2.bitwise_not(face_mask)\n",
    "\n",
    "cv2.imshow('fm', face_mask)\n",
    "cv2.imshow('hm', hands_mask)\n",
    "cv2.waitKey(0)\n",
    "cv2.destroyAllWindows()"
   ]
  },
  {
   "cell_type": "code",
   "execution_count": 18,
   "metadata": {},
   "outputs": [
    {
     "data": {
      "text/plain": [
       "['hands_gen/close_open.png',\n",
       " 'hands_gen/in_front.png',\n",
       " 'hands_gen/one_up.png',\n",
       " 'hands_gen/ono_close.png',\n",
       " 'hands_gen/ono_one_up.png',\n",
       " 'hands_gen/wide_open.png']"
      ]
     },
     "execution_count": 18,
     "metadata": {},
     "output_type": "execute_result"
    }
   ],
   "source": [
    "hands"
   ]
  },
  {
   "cell_type": "code",
   "execution_count": 20,
   "metadata": {},
   "outputs": [],
   "source": [
    "hands_prob = [[3, 2, 2, 1, 1, 8],\n",
    "              [3, 4, 2, 2, 4, 1],\n",
    "              [1, 3, 3, 8, 8, 1],\n",
    "              [8, 4, 8, 4, 8, 2],\n",
    "              [2, 8, 8, 8, 4, 1],\n",
    "              [9, 3, 1, 1, 1, 2]]"
   ]
  },
  {
   "cell_type": "code",
   "execution_count": 53,
   "metadata": {
    "scrolled": true
   },
   "outputs": [],
   "source": [
    "ih = fc_hands+1\n",
    "ic = fc_face+1\n",
    "hstate = 0\n",
    "handsPath = hands[hstate]\n",
    "facePath = 0\n",
    "hidx = [i for i in range(0, len(hands))]\n",
    "facePath = random.choice(faces)\n",
    "imgs = []\n",
    "\n",
    "for i in range(100):\n",
    "\n",
    "    if ih >= fc_hands:\n",
    "        hstate = random.choices(hidx, weights = hands_prob[hstate])[0]\n",
    "        handsPath = hands[hstate]\n",
    "        ih = 0\n",
    "    if ic >= fc_face:\n",
    "        facePath = random.choice(faces)\n",
    "        ic = 0\n",
    "\n",
    "    handsimg = cv2.imread(handsPath)\n",
    "    faceimg = cv2.imread(facePath)\n",
    "\n",
    "    handsonly = cv2.bitwise_and(handsimg, handsimg, mask = hands_mask)\n",
    "    faceonly = cv2.bitwise_and(faceimg, faceimg, mask = face_mask)\n",
    "\n",
    "    img = handsonly + faceonly\n",
    "    imgs.append(img)\n",
    "    \n",
    "    ih += 1\n",
    "    ic += 1\n",
    "    \n",
    "height, width, layers = timg.shape\n",
    "size = (width,height)\n",
    "out = cv2.VideoWriter('project.mp4', cv2.VideoWriter_fourcc(*'DIVX'), cfps, size)\n",
    " \n",
    "for i in range(len(imgs)):\n",
    "    out.write(imgs[i])\n",
    "out.release()\n",
    "\n"
   ]
  },
  {
   "cell_type": "code",
   "execution_count": 24,
   "metadata": {},
   "outputs": [],
   "source": [
    "cv2.destroyAllWindows()"
   ]
  },
  {
   "cell_type": "code",
   "execution_count": 17,
   "metadata": {},
   "outputs": [
    {
     "data": {
      "text/plain": [
       "['hands_gen/close_open.png',\n",
       " 'hands_gen/in_front.png',\n",
       " 'hands_gen/one_up.png',\n",
       " 'hands_gen/ono_close.png',\n",
       " 'hands_gen/ono_one_up.png',\n",
       " 'hands_gen/wide_open.png']"
      ]
     },
     "execution_count": 17,
     "metadata": {},
     "output_type": "execute_result"
    }
   ],
   "source": [
    "hands"
   ]
  },
  {
   "cell_type": "code",
   "execution_count": 51,
   "metadata": {},
   "outputs": [
    {
     "name": "stderr",
     "output_type": "stream",
     "text": [
      "                                                                  "
     ]
    },
    {
     "name": "stdout",
     "output_type": "stream",
     "text": [
      "Moviepy - Building video final_video2.mp4.\n",
      "MoviePy - Writing audio in final_video2TEMP_MPY_wvf_snd.mp3\n",
      "MoviePy - Done.\n",
      "Moviepy - Writing video final_video2.mp4\n",
      "\n"
     ]
    },
    {
     "name": "stderr",
     "output_type": "stream",
     "text": [
      "                                                              \r"
     ]
    },
    {
     "name": "stdout",
     "output_type": "stream",
     "text": [
      "Moviepy - Done !\n",
      "Moviepy - video ready final_video2.mp4\n"
     ]
    }
   ],
   "source": [
    "import moviepy.editor as mpe\n",
    "\n",
    "my_clip = mpe.VideoFileClip('project.avi')\n",
    "audio_background = mpe.AudioFileClip('ness.mp3')\n",
    "final_clip = my_clip.set_audio(audio_background)\n",
    "final_clip.write_videofile(\"final_video2.mp4\")"
   ]
  },
  {
   "cell_type": "code",
   "execution_count": null,
   "metadata": {},
   "outputs": [],
   "source": []
  }
 ],
 "metadata": {
  "kernelspec": {
   "display_name": "Python 3",
   "language": "python",
   "name": "python3"
  },
  "language_info": {
   "codemirror_mode": {
    "name": "ipython",
    "version": 3
   },
   "file_extension": ".py",
   "mimetype": "text/x-python",
   "name": "python",
   "nbconvert_exporter": "python",
   "pygments_lexer": "ipython3",
   "version": "3.6.9"
  }
 },
 "nbformat": 4,
 "nbformat_minor": 2
}
